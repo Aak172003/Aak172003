{
  "nbformat": 4,
  "nbformat_minor": 0,
  "metadata": {
    "colab": {
      "provenance": [],
      "toc_visible": true,
      "authorship_tag": "ABX9TyO+XVdkZNDxnCiW0ezgbwT2",
      "include_colab_link": true
    },
    "kernelspec": {
      "name": "python3",
      "display_name": "Python 3"
    },
    "language_info": {
      "name": "python"
    }
  },
  "cells": [
    {
      "cell_type": "markdown",
      "metadata": {
        "id": "view-in-github",
        "colab_type": "text"
      },
      "source": [
        "<a href=\"https://colab.research.google.com/github/Aak172003/Aak172003/blob/main/Session_1_2_and_3.ipynb\" target=\"_parent\"><img src=\"https://colab.research.google.com/assets/colab-badge.svg\" alt=\"Open In Colab\"/></a>"
      ]
    },
    {
      "cell_type": "code",
      "source": [
        "print(\"Hello World\")\n"
      ],
      "metadata": {
        "colab": {
          "base_uri": "https://localhost:8080/"
        },
        "id": "Wn9FQob2X3lV",
        "outputId": "53b4c8d7-3a1c-4112-9e4c-fc5bc9c81fd3"
      },
      "execution_count": null,
      "outputs": [
        {
          "output_type": "stream",
          "name": "stdout",
          "text": [
            "Hello World\n"
          ]
        }
      ]
    },
    {
      "cell_type": "code",
      "source": [
        "print('Hello' , 4 , 4.5 , True)"
      ],
      "metadata": {
        "colab": {
          "base_uri": "https://localhost:8080/"
        },
        "id": "kKBqmxAOYIwc",
        "outputId": "1542b475-40c5-4b0b-d961-cbbfa5392592"
      },
      "execution_count": null,
      "outputs": [
        {
          "output_type": "stream",
          "name": "stdout",
          "text": [
            "Hello 4 4.5 True\n"
          ]
        }
      ]
    },
    {
      "cell_type": "code",
      "source": [
        "print('Aman' , 4 , 4.5 , True , sep = '\\n')"
      ],
      "metadata": {
        "colab": {
          "base_uri": "https://localhost:8080/"
        },
        "id": "JMu5dg__YO2r",
        "outputId": "5d7725bd-7eb5-4d0b-fbf8-76be468e321b"
      },
      "execution_count": null,
      "outputs": [
        {
          "output_type": "stream",
          "name": "stdout",
          "text": [
            "Aman\n",
            "4\n",
            "4.5\n",
            "True\n"
          ]
        }
      ]
    },
    {
      "cell_type": "code",
      "source": [
        "print('Aman' , 4 , 4.5 , True , sep = ' / ')"
      ],
      "metadata": {
        "colab": {
          "base_uri": "https://localhost:8080/"
        },
        "id": "cfi3xVDuZBfs",
        "outputId": "f8659237-cd24-416b-e75d-626ae6c35a9d"
      },
      "execution_count": null,
      "outputs": [
        {
          "output_type": "stream",
          "name": "stdout",
          "text": [
            "Aman / 4 / 4.5 / True\n"
          ]
        }
      ]
    },
    {
      "cell_type": "markdown",
      "source": [
        "# Data Types"
      ],
      "metadata": {
        "id": "mtRhwUXeZapk"
      }
    },
    {
      "cell_type": "code",
      "source": [
        "# 1e308 => 1 * 10 ^ 308\n",
        "print(1e308)"
      ],
      "metadata": {
        "colab": {
          "base_uri": "https://localhost:8080/"
        },
        "id": "bmPVt4znZeWg",
        "outputId": "7ff026a9-aeb3-4aa0-b7cc-a328d1f6146f"
      },
      "execution_count": null,
      "outputs": [
        {
          "output_type": "stream",
          "name": "stdout",
          "text": [
            "1e+308\n"
          ]
        }
      ]
    },
    {
      "cell_type": "code",
      "source": [
        "# 1.7e308 => 1.7 * 10 ^ 308\n",
        "print(1.7e308)"
      ],
      "metadata": {
        "colab": {
          "base_uri": "https://localhost:8080/"
        },
        "id": "N-vRtKzyaYWm",
        "outputId": "987a332b-1cd3-45e2-c42b-f755c7a41525"
      },
      "execution_count": null,
      "outputs": [
        {
          "output_type": "stream",
          "name": "stdout",
          "text": [
            "1.7e+308\n"
          ]
        }
      ]
    },
    {
      "cell_type": "code",
      "source": [
        "# List in C language  => we called as Array\n",
        "\n",
        "list = [1,2,3,4,5]\n",
        "print(\"This is List -> \",list)"
      ],
      "metadata": {
        "colab": {
          "base_uri": "https://localhost:8080/"
        },
        "id": "GXpxIIqDbDub",
        "outputId": "7964f4a4-babb-4280-964c-3b8fd9b3f8e7"
      },
      "execution_count": null,
      "outputs": [
        {
          "output_type": "stream",
          "name": "stdout",
          "text": [
            "This is List ->  [1, 2, 3, 4, 5]\n"
          ]
        }
      ]
    },
    {
      "cell_type": "code",
      "source": [
        "# Tuple\n",
        "\n",
        "tuple = (1,2,3,4,5)\n",
        "print(tuple)\n"
      ],
      "metadata": {
        "colab": {
          "base_uri": "https://localhost:8080/"
        },
        "id": "z8bjpYALbYnU",
        "outputId": "714e3089-f4f4-437e-9433-9eba450d4a40"
      },
      "execution_count": null,
      "outputs": [
        {
          "output_type": "stream",
          "name": "stdout",
          "text": [
            "(1, 2, 3, 4, 5)\n"
          ]
        }
      ]
    },
    {
      "cell_type": "code",
      "source": [
        "# Set\n",
        "set = {1,2,3,4,5,6,1,2,3}\n",
        "print(\"this is set data -> \" , set )"
      ],
      "metadata": {
        "colab": {
          "base_uri": "https://localhost:8080/"
        },
        "id": "n6cHnlFtbvsI",
        "outputId": "f24fcadb-88ca-44ed-f244-10dd4702d061"
      },
      "execution_count": null,
      "outputs": [
        {
          "output_type": "stream",
          "name": "stdout",
          "text": [
            "this is set data ->  {1, 2, 3, 4, 5, 6}\n"
          ]
        }
      ]
    },
    {
      "cell_type": "code",
      "source": [
        "# Dictionary\n",
        "\n",
        "my_dict = {'name': 'Aman', 'age': 70}\n",
        "\n",
        "print(my_dict['name'])"
      ],
      "metadata": {
        "colab": {
          "base_uri": "https://localhost:8080/"
        },
        "id": "2RrQE5nub4EM",
        "outputId": "7335f8b7-ab3d-4d42-d34d-3ce91b322c6c"
      },
      "execution_count": null,
      "outputs": [
        {
          "output_type": "stream",
          "name": "stdout",
          "text": [
            "Aman\n"
          ]
        }
      ]
    },
    {
      "cell_type": "markdown",
      "source": [
        "# Interview Question ->\n",
        "\n",
        "In Python, the terms \"mutable\" and \"immutable\" refer to whether an object's state can be changed or not after it is created.\n",
        "\n",
        "1. **Mutable:**\n",
        "   - **List:** Lists are mutable. You can modify their elements by assigning new values or using methods like `append()`, `extend()`, `insert()`, `remove()`, or `pop()`.\n",
        "\n",
        "   - **Set:** Sets are mutable. You can add or remove elements using methods like `add()`, `remove()`, or `discard()`.\n",
        "\n",
        "   - **Dictionary:** Dictionaries are mutable. You can add, modify, or remove key-value pairs using various methods.\n",
        "\n",
        "\n",
        "2. **Immutable:**\n",
        "   - **Tuple:** Tuples are immutable. Once a tuple is created, you cannot change its elements. You can, however, create a new tuple with different values.\n",
        "\n",
        "   - **String:** Though you didn't mention it, strings are also immutable in Python. Once a string is created, you cannot modify its characters.\n",
        "\n",
        "   - **Frozen Set:** Similar to sets, but frozen sets are immutable. Once a frozen set is created, you cannot add or remove elements.\n",
        "\n",
        "\n",
        "## Frozen Set\n",
        "\n",
        "In Python, a frozen set is an immutable version of a set. While a regular set allows you to add, remove, or update elements, a frozen set doesn't support such operations once it's created. Once you define the elements of a frozen set, they cannot be changed. This immutability makes frozen sets suitable for situations where you want a set-like data structure with the guarantee that its content won't change.\n",
        "\n",
        "Here's an example of creating a frozen set in Python:\n",
        "\n",
        "```python\n",
        "# Creating a regular set\n",
        "normal_set = {1, 2, 3, 4, 5}\n",
        "\n",
        "# Creating a frozen set from the normal set\n",
        "frozen_set = frozenset(normal_set)\n",
        "\n",
        "print(\"Normal Set:\", normal_set)\n",
        "print(\"Frozen Set:\", frozen_set)\n",
        "```\n",
        "\n",
        "In this example, `frozenset()` is used to create a frozen set from `normal_set`. Once the frozen set is created, you cannot add or remove elements from it.\n",
        "\n",
        "Attempting to do so will result in an error.\n",
        "\n",
        "```python\n",
        "# Attempting to add an element to a frozen set (this will raise an error)\n",
        "# frozen_set.add(6)\n",
        "# TypeError: 'frozenset' object has no attribute 'add'\n",
        "```\n",
        "\n",
        "It's important to note that while frozen sets are immutable, regular sets are mutable. So, if you need a set that can be modified after creation, you would use a regular set.\n",
        "\n",
        "#### If immutability is desired, then a frozen set is the appropriate choice."
      ],
      "metadata": {
        "id": "d6GLwbZluuJC"
      }
    },
    {
      "cell_type": "markdown",
      "source": [
        "# Type Function"
      ],
      "metadata": {
        "id": "ZPsoOtgTdkP2"
      }
    },
    {
      "cell_type": "code",
      "source": [
        "type(my_dict)"
      ],
      "metadata": {
        "colab": {
          "base_uri": "https://localhost:8080/"
        },
        "id": "nMn5i0pbdSjy",
        "outputId": "2e01656d-cc76-4583-bfa0-fd98eebd5d87"
      },
      "execution_count": null,
      "outputs": [
        {
          "output_type": "execute_result",
          "data": {
            "text/plain": [
              "dict"
            ]
          },
          "metadata": {},
          "execution_count": 33
        }
      ]
    },
    {
      "cell_type": "markdown",
      "source": [
        "# Variables"
      ],
      "metadata": {
        "id": "VmOLRh9GdouO"
      }
    },
    {
      "cell_type": "code",
      "source": [
        "name = \"Aakash\"\n",
        "print('My name is : ' ,name)"
      ],
      "metadata": {
        "id": "ncIVAjoId5P1",
        "colab": {
          "base_uri": "https://localhost:8080/"
        },
        "outputId": "7f97dd22-cdea-4a43-9cdc-cb81c2520ee6"
      },
      "execution_count": null,
      "outputs": [
        {
          "output_type": "stream",
          "name": "stdout",
          "text": [
            "My name is :  Aakash\n"
          ]
        }
      ]
    },
    {
      "cell_type": "markdown",
      "source": [
        "# Interview Question\n",
        "\n",
        "\n",
        "## Dynamic Typing\n",
        "Simple means we don't tell the data type of the variable\n",
        "\n",
        "name = \"Aakash\"     \n",
        "print(name)\n",
        "\n",
        "## Static typing :\n",
        "Means here we need to define the data type of the variable , which means python is Dynamic type Languega .\n",
        "\n",
        "string name = \"Aakash\"                                          \n",
        "print(name)"
      ],
      "metadata": {
        "id": "G2sLtNTGAPsA"
      }
    },
    {
      "cell_type": "markdown",
      "source": [
        "# Interview Question\n",
        "\n",
        "## Dynamic Binding -> Data type not fixed\n",
        "\n",
        "a = \"Aakash\"  \n",
        "print(a)\n",
        "\n",
        "a = 1  \n",
        "print(a)\n",
        "\n",
        "This does not give error in Python , beacuse python support dynamic binding , But other c , c++ and java does not support\n",
        "\n",
        "\n",
        "## Static Binding ->\n",
        "###### Data type fixed or that can store similar kind of value\n",
        "\n"
      ],
      "metadata": {
        "id": "wElFLrOGBVkM"
      }
    },
    {
      "cell_type": "code",
      "source": [
        "a,b,c = 1 , 2 , 3\n",
        "print(a , b , c)"
      ],
      "metadata": {
        "colab": {
          "base_uri": "https://localhost:8080/"
        },
        "id": "1Z4IB-YhAS9U",
        "outputId": "99fe98c9-9b74-4d53-d8a3-bcebc13ba1a5"
      },
      "execution_count": null,
      "outputs": [
        {
          "output_type": "stream",
          "name": "stdout",
          "text": [
            "1 2 3\n"
          ]
        }
      ]
    },
    {
      "cell_type": "code",
      "source": [
        "# All Assign with the same value\n",
        "a = b = c = 1\n",
        "print(a , b , c)"
      ],
      "metadata": {
        "colab": {
          "base_uri": "https://localhost:8080/"
        },
        "id": "OCgNV0zTC6Bs",
        "outputId": "e51ca4f1-6dce-4556-909e-c337b7994513"
      },
      "execution_count": null,
      "outputs": [
        {
          "output_type": "stream",
          "name": "stdout",
          "text": [
            "1 1 1\n"
          ]
        }
      ]
    },
    {
      "cell_type": "markdown",
      "source": [
        "# Keywords\n",
        "Which means reserverd keyword for interpreter or else compilers\n",
        "\n",
        "#Identifiers\n",
        "names created by user or else we can say that user defined name\n",
        "\n"
      ],
      "metadata": {
        "id": "hRiFvVt2DfGK"
      }
    },
    {
      "cell_type": "code",
      "source": [],
      "metadata": {
        "id": "QhSSrp7jF1Oj"
      },
      "execution_count": null,
      "outputs": []
    },
    {
      "cell_type": "markdown",
      "source": [
        "# Static Software\n",
        "   Like calander\n",
        "# Dynamic software\n",
        "  Like chat-gpt , Ola  , Zomoto"
      ],
      "metadata": {
        "id": "zkt6a1g9F6oW"
      }
    },
    {
      "cell_type": "markdown",
      "source": [
        "# Talk About User Input"
      ],
      "metadata": {
        "id": "GfZDEu1RwYWb"
      }
    },
    {
      "cell_type": "code",
      "source": [
        "name = input(\"Enter Your Name : \")\n",
        "print(\"My name is : \", name)"
      ],
      "metadata": {
        "colab": {
          "base_uri": "https://localhost:8080/"
        },
        "id": "mm7FTZtdGGu0",
        "outputId": "c6a95bee-9862-4753-d3c2-b517ec541602"
      },
      "execution_count": null,
      "outputs": [
        {
          "output_type": "stream",
          "name": "stdout",
          "text": [
            "Enter Your Name : Aman\n",
            "My name is :  Aman\n"
          ]
        }
      ]
    },
    {
      "cell_type": "code",
      "source": [
        "n1 = int(input(\"Enter 1st No. \"))\n",
        "n2 = int(input(\"Enter 2nd No. \"))\n",
        "\n",
        "print(n1 + n2)"
      ],
      "metadata": {
        "colab": {
          "base_uri": "https://localhost:8080/"
        },
        "id": "miOux7itGtRH",
        "outputId": "26f972a9-ca8d-4cc2-e680-6d25262b73a0"
      },
      "execution_count": null,
      "outputs": [
        {
          "output_type": "stream",
          "name": "stdout",
          "text": [
            "Enter 1st No. 5\n",
            "Enter 2nd No. 7\n",
            "12\n"
          ]
        }
      ]
    },
    {
      "cell_type": "markdown",
      "source": [
        "# Interview ( Question )\n",
        "Why python treat every user input as string , because string is a universal format , which means any thing we can store in string format , and those thing needed to be change , we can easily change"
      ],
      "metadata": {
        "id": "OOJqxSGxHnOj"
      }
    },
    {
      "cell_type": "markdown",
      "source": [
        "# Interview Question\n",
        "\n",
        "Type conversion operation in python does not change the original data , but it creates a new value ,\n",
        "But Original will be same"
      ],
      "metadata": {
        "id": "bSu98kOMJXGA"
      }
    },
    {
      "cell_type": "code",
      "source": [],
      "metadata": {
        "id": "YJaheYxUJaSC"
      },
      "execution_count": null,
      "outputs": []
    },
    {
      "cell_type": "markdown",
      "source": [
        "# Literal -> values which stored in variable\n",
        "\n",
        "name = \"Aakash\"\n",
        "\n",
        "nam is variable\n",
        "\n",
        "= is operator\n",
        "\n",
        "\"Aakash\" is literal  "
      ],
      "metadata": {
        "id": "YtqgW2XTJ5Ke"
      }
    },
    {
      "cell_type": "code",
      "source": [
        "a = 0b1010 #Binary Literals\n",
        "b = 100 #Decimal Literal\n",
        "c = 0o310 #Octal Literal\n",
        "d = 0x12c #Hexadecimal Literal\n",
        "\n",
        "#Float Literal\n",
        "\n",
        "float_1 = 10.5\n",
        "float_2 = 1.5e2   # 1.5 * 10^2\n",
        "float_3 = 1.5e-3  # 1.5 * 10^-3\n",
        "\n",
        "#Complex Literal\n",
        "x = 3.14j\n",
        "\n",
        "print(a, b, c, d)\n",
        "print(float_1, float_2,float_3)\n",
        "print(x, x.imag, x.real)"
      ],
      "metadata": {
        "colab": {
          "base_uri": "https://localhost:8080/"
        },
        "id": "Co15IwFJKOJj",
        "outputId": "f2387fd3-d5e4-48f1-ae36-6eade0163142"
      },
      "execution_count": null,
      "outputs": [
        {
          "output_type": "stream",
          "name": "stdout",
          "text": [
            "10 100 200 300\n",
            "10.5 150.0 0.0015\n",
            "3.14j 3.14 0.0\n"
          ]
        }
      ]
    },
    {
      "cell_type": "code",
      "source": [
        "string = 'This is Python'\n",
        "strings = \"This is Python\"\n",
        "char = \"C\"\n",
        "\n",
        "multiline_str = \"\"\"This is a multiline string with more than one line code.\"\"\"\n",
        "\n",
        "unicode = u\"\\U0001f600\\U0001F606\\U0001F923\"\n",
        "\n",
        "raw_str = r\"raw \\t string\"\n",
        "raw_str = \"raw \\t string\"\n",
        "\n",
        "print(string)\n",
        "print(strings)\n",
        "print(char)\n",
        "print(multiline_str)\n",
        "print(unicode)\n",
        "print(raw_str)"
      ],
      "metadata": {
        "colab": {
          "base_uri": "https://localhost:8080/"
        },
        "id": "fxAweDPHLM-c",
        "outputId": "1c50cc60-c9f2-4eef-9a85-cbd4d7448687"
      },
      "execution_count": null,
      "outputs": [
        {
          "output_type": "stream",
          "name": "stdout",
          "text": [
            "This is Python\n",
            "This is Python\n",
            "C\n",
            "This is a multiline string with more than one line code.\n",
            "😀😆🤣\n",
            "raw \t string\n"
          ]
        }
      ]
    },
    {
      "cell_type": "markdown",
      "source": [
        "# Interview Question\n",
        "\n",
        "We can not make any variable before use , actually Python allows that whenever you want you can create\n",
        "\n",
        "To solve this error , we can use None keyword , which represents nothing"
      ],
      "metadata": {
        "id": "8jhO0SlEMORi"
      }
    },
    {
      "cell_type": "markdown",
      "source": [
        "# Operators in Python\n",
        "\n",
        "- Arithmetic Operators\n",
        "- Relational Operators\n",
        "- Logical Operators\n",
        "- Bitwise Operators\n",
        "- Assignment Operators\n",
        "- Membership Operators"
      ],
      "metadata": {
        "id": "F7Q7MSh7SJPe"
      }
    },
    {
      "cell_type": "code",
      "source": [
        "# Arithmetric Operators\n",
        "print(5+6)\n",
        "\n",
        "print(5-6)\n",
        "\n",
        "print(5*6)\n",
        "\n",
        "print(5/2)\n",
        "\n",
        "print(5//2)       # Integer Divison\n",
        "\n",
        "print(5%2)        # Modulus\n",
        "\n",
        "print(5**2)       # Power"
      ],
      "metadata": {
        "colab": {
          "base_uri": "https://localhost:8080/"
        },
        "id": "Cwu4-74oSYKz",
        "outputId": "93c69484-eebf-4662-d2ad-09e20eb6b803"
      },
      "execution_count": null,
      "outputs": [
        {
          "output_type": "stream",
          "name": "stdout",
          "text": [
            "11\n",
            "-1\n",
            "30\n",
            "2.5\n",
            "2\n",
            "1\n",
            "25\n"
          ]
        }
      ]
    },
    {
      "cell_type": "code",
      "source": [
        "# Logical Operators\n",
        "print(1 and 0)\n",
        "\n",
        "print(1 or 0)\n",
        "\n",
        "print(not 1)"
      ],
      "metadata": {
        "colab": {
          "base_uri": "https://localhost:8080/"
        },
        "id": "StpnzktwS5S_",
        "outputId": "581983bd-6d03-4a99-f26b-481952096298"
      },
      "execution_count": null,
      "outputs": [
        {
          "output_type": "stream",
          "name": "stdout",
          "text": [
            "0\n",
            "1\n",
            "False\n"
          ]
        }
      ]
    },
    {
      "cell_type": "code",
      "source": [
        "# Bitwise Operators -> Work on binary representation\n",
        "\n",
        "# bitwise and\n",
        "print(2 & 3)\n",
        "\n",
        "# bitwise or\n",
        "print(2 | 3)\n",
        "\n",
        "# bitwise xor\n",
        "print(2 ^ 3)\n",
        "\n",
        "print(~3)\n",
        "\n",
        "print(4 >> 2)   # Right shift ( 2 times Divide by 2 )\n",
        "\n",
        "print(5 << 2)   # Left shift ( 2 times Multiply by 2 )"
      ],
      "metadata": {
        "colab": {
          "base_uri": "https://localhost:8080/"
        },
        "id": "7N63efScTYMn",
        "outputId": "d98275aa-1c9b-4e19-b9df-3e56d895d443"
      },
      "execution_count": null,
      "outputs": [
        {
          "output_type": "stream",
          "name": "stdout",
          "text": [
            "2\n",
            "3\n",
            "1\n",
            "-4\n",
            "1\n",
            "20\n"
          ]
        }
      ]
    },
    {
      "cell_type": "markdown",
      "source": [
        "# Interview Question\n",
        "\n",
        "Python does work with increment and decrement operator"
      ],
      "metadata": {
        "id": "oVpNwErzVeO2"
      }
    },
    {
      "cell_type": "code",
      "source": [
        "# Membership Operators\n",
        "# ( In c , c++ and Java -> if we want this things so we have to traverse a loop for finding that result )\n",
        "\n",
        "# in/not in\n",
        "\n",
        "print('D' not in 'Delhi')\n",
        "\n",
        "print(2 in [2,3,4,5,6])"
      ],
      "metadata": {
        "colab": {
          "base_uri": "https://localhost:8080/"
        },
        "id": "dNMCjVZzVrlI",
        "outputId": "870c1746-f287-4d51-afc8-26b2204923ea"
      },
      "execution_count": null,
      "outputs": [
        {
          "output_type": "stream",
          "name": "stdout",
          "text": [
            "False\n",
            "True\n"
          ]
        }
      ]
    },
    {
      "cell_type": "markdown",
      "source": [
        "# If-else in Python"
      ],
      "metadata": {
        "id": "EUjQ7veDa89B"
      }
    },
    {
      "cell_type": "code",
      "source": [
        "# login program and indentation\n",
        "# email -> nitish.campusx@gmail.com\n",
        "# password -> 1234\n",
        "\n",
        "email = input(\"Enter your email: \")\n",
        "password = input(\"Enter your password: \")\n",
        "\n",
        "if email == \"123@gmail.com\":\n",
        "    if password == \"123\":\n",
        "        print(\"Welcome\")\n",
        "    else:\n",
        "        print(\"Password is wrong\")\n",
        "else:\n",
        "    print(\"Email is wrong\")\n"
      ],
      "metadata": {
        "colab": {
          "base_uri": "https://localhost:8080/"
        },
        "id": "A5phLCGPZnwz",
        "outputId": "111c5eb1-bb39-4252-d7b4-1c7eea4b5880"
      },
      "execution_count": null,
      "outputs": [
        {
          "output_type": "stream",
          "name": "stdout",
          "text": [
            "Enter your email: 123\n",
            "Enter your password: d\n",
            "Email is wrong\n"
          ]
        }
      ]
    },
    {
      "cell_type": "code",
      "source": [
        "# Give a second chance , if mail id correct but password is incorrect\n",
        "\n",
        "email = input('enter email')\n",
        "password = input('enter password')\n",
        "\n",
        "if email == 'nitish.campusx@gmail.com' and password == '1234':\n",
        "  print('Welcome')\n",
        "\n",
        "elif email == 'nitish.campusx@gmail.com' and password != '1234':\n",
        "\n",
        "  # tell the user\n",
        "\n",
        "  print('Incorrect password')\n",
        "\n",
        "  password = input('enter password again')\n",
        "\n",
        "  if password == '1234':\n",
        "    print('Welcome,finally!')\n",
        "  else:\n",
        "    print('beta tumse na ho paayega!')\n",
        "else:\n",
        "  print('Not correct')"
      ],
      "metadata": {
        "colab": {
          "base_uri": "https://localhost:8080/"
        },
        "id": "dsXF0m67bEzi",
        "outputId": "abc3162a-f5a9-446e-a46c-bcf8bc222505"
      },
      "execution_count": null,
      "outputs": [
        {
          "output_type": "stream",
          "name": "stdout",
          "text": [
            "enter emailnitish.campusx@gmail.com\n",
            "enter password4321\n",
            "Incorrect password\n",
            "enter password again1234\n",
            "Welcome,finally!\n"
          ]
        }
      ]
    },
    {
      "cell_type": "code",
      "source": [
        "# Check min no between 4 user input numbers\n",
        "\n",
        "a = int(input(\"Enter a :\"))\n",
        "b = int(input(\"Enter b :\"))\n",
        "c = int(input(\"Enter c :\"))\n",
        "d = int(input(\"Enter d :\"))\n",
        "\n",
        "if a< b and a< c and a<d :\n",
        "  print(\"smallest is\" , a)\n",
        "elif b<c and b< d:\n",
        "    print(\"smallest is :\",  b)\n",
        "elif c<d:\n",
        "    print(\"smallest is : \", c)\n",
        "else:\n",
        "  print(\"smallest is : \" , d)\n"
      ],
      "metadata": {
        "colab": {
          "base_uri": "https://localhost:8080/"
        },
        "id": "68GSf2zad0rY",
        "outputId": "5b631541-63f9-4088-fd6f-f4077b3a9c59"
      },
      "execution_count": null,
      "outputs": [
        {
          "output_type": "stream",
          "name": "stdout",
          "text": [
            "Enter a :4\n",
            "Enter b :8\n",
            "Enter c :9\n",
            "Enter d :1\n",
            "smallest is :  1\n"
          ]
        }
      ]
    },
    {
      "cell_type": "code",
      "source": [
        "# menu driven calculator\n",
        "menu = input(\"\"\"\n",
        "Hi! how can I help you.\n",
        "1. Enter 1 for pin change\n",
        "2. Enter 2 for balance check\n",
        "3. Enter 3 for withdrawl\n",
        "4. Enter 4 for exit\n",
        "\"\"\")\n",
        "\n",
        "if menu == '1':\n",
        "  print('pin change')\n",
        "elif menu == '2':\n",
        "  print('balance')\n",
        "else:\n",
        "  print('exit')"
      ],
      "metadata": {
        "id": "V099idRcfM6G"
      },
      "execution_count": null,
      "outputs": []
    },
    {
      "cell_type": "markdown",
      "source": [
        "# Modules in Python\n",
        "- math\n",
        "- keywords\n",
        "- random\n",
        "- datetime"
      ],
      "metadata": {
        "id": "Vl3EoHTNguln"
      }
    },
    {
      "cell_type": "code",
      "source": [
        "import math\n"
      ],
      "metadata": {
        "id": "4rgMkkMKg2Ne"
      },
      "execution_count": null,
      "outputs": []
    },
    {
      "cell_type": "code",
      "source": [
        "print(math.factorial(5))"
      ],
      "metadata": {
        "colab": {
          "base_uri": "https://localhost:8080/"
        },
        "id": "2sQG0xm6g5Hn",
        "outputId": "3a3087bd-adbe-4ad3-f344-1a02869d5597"
      },
      "execution_count": null,
      "outputs": [
        {
          "output_type": "stream",
          "name": "stdout",
          "text": [
            "120\n"
          ]
        }
      ]
    },
    {
      "cell_type": "code",
      "source": [
        "# keyword\n",
        "import keyword\n",
        "print(keyword.kwlist)"
      ],
      "metadata": {
        "colab": {
          "base_uri": "https://localhost:8080/"
        },
        "id": "MnrwSkGOhYUL",
        "outputId": "3ed2a1b1-b618-40a5-de7f-ca4ad6087c7c"
      },
      "execution_count": null,
      "outputs": [
        {
          "output_type": "stream",
          "name": "stdout",
          "text": [
            "['False', 'None', 'True', 'and', 'as', 'assert', 'async', 'await', 'break', 'class', 'continue', 'def', 'del', 'elif', 'else', 'except', 'finally', 'for', 'from', 'global', 'if', 'import', 'in', 'is', 'lambda', 'nonlocal', 'not', 'or', 'pass', 'raise', 'return', 'try', 'while', 'with', 'yield']\n"
          ]
        }
      ]
    },
    {
      "cell_type": "code",
      "source": [
        "# random\n",
        "import random\n",
        "\n",
        "print(random.randint(1,100))"
      ],
      "metadata": {
        "colab": {
          "base_uri": "https://localhost:8080/"
        },
        "id": "2hxExCQKhbQ4",
        "outputId": "1407b534-4c9c-4f7c-9546-d9b3e4d9bf19"
      },
      "execution_count": null,
      "outputs": [
        {
          "output_type": "stream",
          "name": "stdout",
          "text": [
            "90\n"
          ]
        }
      ]
    },
    {
      "cell_type": "code",
      "source": [
        "# datetime\n",
        "import datetime\n",
        "print(datetime.datetime.now())"
      ],
      "metadata": {
        "colab": {
          "base_uri": "https://localhost:8080/"
        },
        "id": "mCU2CE7YhdkB",
        "outputId": "3ae4d4fc-1453-40b3-c818-ff0da9111242"
      },
      "execution_count": null,
      "outputs": [
        {
          "output_type": "stream",
          "name": "stdout",
          "text": [
            "2023-12-13 04:53:35.764534\n"
          ]
        }
      ]
    },
    {
      "cell_type": "code",
      "source": [
        "!pip install hypothesis\n"
      ],
      "metadata": {
        "id": "ZrtForJThgd2"
      },
      "execution_count": null,
      "outputs": []
    },
    {
      "cell_type": "markdown",
      "source": [
        "# Note ->\n",
        "### This helps , to check How many Modules\n",
        "### Exist in Python\n"
      ],
      "metadata": {
        "id": "crMz25x4yZ2I"
      }
    },
    {
      "cell_type": "code",
      "source": [
        "\n",
        "\n",
        "help('modules')"
      ],
      "metadata": {
        "id": "p-nLS1dqico9"
      },
      "execution_count": null,
      "outputs": []
    },
    {
      "cell_type": "markdown",
      "source": [
        "# While loop example\n",
        "program to print the table"
      ],
      "metadata": {
        "id": "3J3BM3LjjjHP"
      }
    },
    {
      "cell_type": "code",
      "source": [
        "number = int(input('enter the number'))\n",
        "\n",
        "i = 1\n",
        "\n",
        "while i<=10:\n",
        "  print(number,'*',i,'=',number * i)\n",
        "  i += 1"
      ],
      "metadata": {
        "id": "eusTBCcIju1B"
      },
      "execution_count": null,
      "outputs": []
    },
    {
      "cell_type": "code",
      "source": [
        "# while loop with else\n",
        "\n",
        "x = 1\n",
        "\n",
        "while x < 3:\n",
        "  print(x)\n",
        "  x += 1\n",
        "\n",
        "else:\n",
        "  print('limit crossed')"
      ],
      "metadata": {
        "id": "i7HMkc-mj6U5"
      },
      "execution_count": null,
      "outputs": []
    },
    {
      "cell_type": "code",
      "source": [
        "# Guessing game\n",
        "\n",
        "# generate a random integer between 1 and 100\n",
        "import random\n",
        "\n",
        "jackpot = random.randint(1,100)\n",
        "\n",
        "\n",
        "guess = int(input('guess karo'))\n",
        "\n",
        "counter = 1\n",
        "\n",
        "# Iterate , until we found correct Guess Number\n",
        "while guess != jackpot:\n",
        "  if guess < jackpot:\n",
        "    print('galat!guess higher')\n",
        "  else:\n",
        "    print('galat!guess lower')\n",
        "\n",
        "  guess = int(input('guess karo'))\n",
        "  counter += 1\n",
        "\n",
        "else:\n",
        "  print('correct guess')\n",
        "  print('attempts',counter)\n",
        "\n"
      ],
      "metadata": {
        "id": "Y1igOQq_m3p3"
      },
      "execution_count": null,
      "outputs": []
    },
    {
      "cell_type": "markdown",
      "source": [
        "# For loop demo"
      ],
      "metadata": {
        "id": "ZUBwroNFpysF"
      }
    },
    {
      "cell_type": "code",
      "source": [
        "# For loop demo\n",
        "\n",
        "for i in {1,2,3,4,5}:\n",
        "  print(i)\n",
        "\n",
        "# 1 , 1<11\n",
        "for i in range(1 , 11):\n",
        "  print(i)\n",
        "\n",
        "\n",
        "# 1 , 1<11 space 2 ka\n",
        "for i in range(1 , 11, 2):\n",
        "  print(i)"
      ],
      "metadata": {
        "id": "vT0Js-12pxqZ"
      },
      "execution_count": null,
      "outputs": []
    },
    {
      "cell_type": "markdown",
      "source": [
        "# Program\n",
        " The current population of a town is 10000. The population of the town is increasing at the rate of 10% per year. You have to write a program to find out the population at the end of each of the last 10 years.\n",
        "[ ]\n"
      ],
      "metadata": {
        "id": "r-tHSLGhqhIZ"
      }
    },
    {
      "cell_type": "code",
      "source": [
        "curr_pop = 10000\n",
        "\n",
        "for i in range(10,0,-1):\n",
        "  print(i,curr_pop)\n",
        "\n",
        "  # we need to decrease in every year by 10% in curr_population\n",
        "  curr_pop = curr_pop / 1.1\n"
      ],
      "metadata": {
        "colab": {
          "base_uri": "https://localhost:8080/"
        },
        "id": "TMrrGIlZqkpX",
        "outputId": "be1e5f9c-b6eb-4cd3-b9fa-203d6a0df066"
      },
      "execution_count": null,
      "outputs": [
        {
          "output_type": "stream",
          "name": "stdout",
          "text": [
            "10 10000\n",
            "9 9090.90909090909\n",
            "8 8264.462809917353\n",
            "7 7513.148009015775\n",
            "6 6830.134553650703\n",
            "5 6209.213230591548\n",
            "4 5644.739300537771\n",
            "3 5131.5811823070635\n",
            "2 4665.07380209733\n",
            "1 4240.976183724845\n"
          ]
        }
      ]
    },
    {
      "cell_type": "code",
      "source": [
        "\n",
        "# Via ( While Loop )\n",
        "# Implement 1 / 1! + 2 / 2! + .........\n",
        "\n",
        "import math\n",
        "num = int(input(\"Enter number :\"))\n",
        "\n",
        "sum = 0\n",
        "i = 0\n",
        "while i<num+1 :\n",
        "  fct = math.factorial(i)\n",
        "  sum = sum +  i/fct\n",
        "  i += 1\n",
        "\n",
        "# If loop terminate else case will run\n",
        "else:\n",
        "  print(\"sum is : \", sum )\n",
        "  print(\"Loop Complete\")\n",
        "\n",
        "\n",
        "# Via ( For Loop )\n",
        "\n",
        "# import math\n",
        "# n = int(input('enter n'))\n",
        "\n",
        "# result = 0\n",
        "\n",
        "# for i in range(1,n+1):\n",
        "\n",
        "#   fact = math.factorial(i)\n",
        "#   result = result + i/fact\n",
        "\n",
        "# print(result)"
      ],
      "metadata": {
        "colab": {
          "base_uri": "https://localhost:8080/"
        },
        "id": "4yHSaPgnyLUs",
        "outputId": "58af6351-5417-4868-9de0-073afbcc2f50"
      },
      "execution_count": null,
      "outputs": [
        {
          "output_type": "stream",
          "name": "stdout",
          "text": [
            "Enter number :5\n",
            "sum is :  2.708333333333333\n",
            "Loop Complete\n"
          ]
        }
      ]
    },
    {
      "cell_type": "markdown",
      "source": [
        "# Nested Loops"
      ],
      "metadata": {
        "id": "z_pPhPTl4KQF"
      }
    },
    {
      "cell_type": "code",
      "source": [
        "# Examples -> unique pairs\n",
        "\n",
        "for i in range(1,5):\n",
        "  for j in range(1,5):\n",
        "    print(i,j)"
      ],
      "metadata": {
        "colab": {
          "base_uri": "https://localhost:8080/"
        },
        "id": "pnffonBA4PrZ",
        "outputId": "bd282631-dc60-4774-86bb-e2bdc95443b2"
      },
      "execution_count": null,
      "outputs": [
        {
          "output_type": "stream",
          "name": "stdout",
          "text": [
            "1 1\n",
            "1 2\n",
            "1 3\n",
            "1 4\n",
            "2 1\n",
            "2 2\n",
            "2 3\n",
            "2 4\n",
            "3 1\n",
            "3 2\n",
            "3 3\n",
            "3 4\n",
            "4 1\n",
            "4 2\n",
            "4 3\n",
            "4 4\n"
          ]
        }
      ]
    },
    {
      "cell_type": "code",
      "source": [
        "for i in range(1,11):\n",
        "  for j in range(1, i+1):\n",
        "\n",
        "    # end is inbuilt in print function in python\n",
        "    print('*' , end = '')\n",
        "  print()\n"
      ],
      "metadata": {
        "id": "LBWW9vEv4HHG"
      },
      "execution_count": null,
      "outputs": []
    },
    {
      "cell_type": "code",
      "source": [
        "# Code here\n",
        "rows = int(input('enter number of rows'))\n",
        "\n",
        "for i in range(1,rows+1):\n",
        "\n",
        "  # first print in increasing\n",
        "  for j in range(1,i+1):\n",
        "    print(j,end=' ')\n",
        "\n",
        "  # then print in decreasing\n",
        "  for k in range(i-1,0,-1):\n",
        "    print(k,end=' ')\n",
        "\n",
        "  print()"
      ],
      "metadata": {
        "colab": {
          "base_uri": "https://localhost:8080/"
        },
        "id": "WruNg6it5hzs",
        "outputId": "b256f16b-62e4-41b8-d267-2a69323f6527"
      },
      "execution_count": null,
      "outputs": [
        {
          "output_type": "stream",
          "name": "stdout",
          "text": [
            "enter number of rows5\n",
            "1 \n",
            "1 2 1 \n",
            "1 2 3 2 1 \n",
            "1 2 3 4 3 2 1 \n",
            "1 2 3 4 5 4 3 2 1 \n"
          ]
        }
      ]
    },
    {
      "cell_type": "markdown",
      "source": [
        "# String\n",
        "Strings are sequence of Characters\n",
        "\n",
        "In Python specifically, strings are a sequence of Unicode Characters\n",
        "\n",
        "- Creating Strings\n",
        "- Accessing Strings\n",
        "- Adding Chars to Strings\n",
        "- Editing Strings\n",
        "- Deleting Strings\n",
        "- Operations on Strings\n",
        "- String Functions\n",
        "\n",
        "\n",
        "# Unicode  v/s ASCII\n",
        "[link text](https://www.geeksforgeeks.org/ascii-vs-unicode/)\n"
      ],
      "metadata": {
        "id": "dyISv4llDuQK"
      }
    },
    {
      "cell_type": "code",
      "source": [
        "s = 'hello'\n",
        "s = \"hello\"\n",
        "\n",
        "# multiline strings\n",
        "s = '''hello\n",
        "my name is '''\n",
        "\n",
        "# s = \"\"\"hello\n",
        "# My name is\n",
        "# \"\"\"\n",
        "\n",
        "# s = str('hello')\n",
        "print(s)"
      ],
      "metadata": {
        "colab": {
          "base_uri": "https://localhost:8080/"
        },
        "id": "HWNhb5PRDtw8",
        "outputId": "d722cec5-873b-44a5-fd50-e1afffc7f82d"
      },
      "execution_count": null,
      "outputs": [
        {
          "output_type": "stream",
          "name": "stdout",
          "text": [
            "hello\n",
            "my name is \n"
          ]
        }
      ]
    },
    {
      "cell_type": "markdown",
      "source": [
        "# Accessing Substrings from a String"
      ],
      "metadata": {
        "id": "reaPtL4oF0Ds"
      }
    },
    {
      "cell_type": "code",
      "source": [
        "# Positive Indexing\n",
        "s = 'hello world'\n",
        "print(s[4])"
      ],
      "metadata": {
        "id": "6hhyLT_2Gv9X"
      },
      "execution_count": null,
      "outputs": []
    },
    {
      "cell_type": "code",
      "source": [
        "# Negative Indexing\n",
        "s = 'hello world'\n",
        "print(s[-3])"
      ],
      "metadata": {
        "id": "r1XZfqZKGkhC"
      },
      "execution_count": null,
      "outputs": []
    },
    {
      "cell_type": "code",
      "source": [
        "# Slicing\n",
        "s = 'hello world'\n",
        "print(s[0:5])   # 4 -> like 5-1 = 4"
      ],
      "metadata": {
        "id": "_cs8_nakGyQD"
      },
      "execution_count": null,
      "outputs": []
    },
    {
      "cell_type": "code",
      "source": [
        "# Slicing\n",
        "s = 'hello world'\n",
        "print(s[5:0:])   # 4 -> like 5-1 = 4\n",
        "\n",
        "# Not Give any answer"
      ],
      "metadata": {
        "colab": {
          "base_uri": "https://localhost:8080/",
          "height": 72
        },
        "id": "MqRWbVTTHXwy",
        "outputId": "d13e46f7-d7ad-478e-f883-77b4214e1694"
      },
      "execution_count": null,
      "outputs": [
        {
          "output_type": "stream",
          "name": "stderr",
          "text": [
            "/usr/local/lib/python3.10/dist-packages/ipykernel/ipkernel.py:283: DeprecationWarning: `should_run_async` will not call `transform_cell` automatically in the future. Please pass the result to `transformed_cell` argument and any exception that happen during thetransform in `preprocessing_exc_tuple` in IPython 7.17 and above.\n"
          ]
        },
        {
          "output_type": "display_data",
          "data": {
            "text/plain": [
              "<IPython.core.display.HTML object>"
            ],
            "text/html": [
              "\n",
              "            <style>\n",
              "                .geemap-dark {\n",
              "                    --jp-widgets-color: white;\n",
              "                    --jp-widgets-label-color: white;\n",
              "                    --jp-ui-font-color1: white;\n",
              "                    --jp-layout-color2: #454545;\n",
              "                    background-color: #383838;\n",
              "                }\n",
              "                    \n",
              "                .geemap-dark .jupyter-button {\n",
              "                    --jp-layout-color3: #383838;\n",
              "                }\n",
              "                \n",
              "                .geemap-colab {\n",
              "                    background-color: var(--colab-primary-surface-color, white);\n",
              "                }\n",
              "                    \n",
              "                .geemap-colab .jupyter-button {\n",
              "                    --jp-layout-color3: var(--colab-primary-surface-color, white);\n",
              "                }\n",
              "            </style>\n",
              "            "
            ]
          },
          "metadata": {}
        },
        {
          "output_type": "stream",
          "name": "stdout",
          "text": [
            " wo\n"
          ]
        }
      ]
    },
    {
      "cell_type": "markdown",
      "source": [
        "# Editing and Deleting in Strings"
      ],
      "metadata": {
        "id": "mon4EiMZIZM1"
      }
    },
    {
      "cell_type": "code",
      "source": [
        "s = 'hello world'\n",
        "s[0] = 'H'\n",
        "\n",
        "        #  OR\n",
        "\n",
        "s = 'hello world'\n",
        "del s[-1:-5:2]\n",
        "print(s)\n",
        "\n",
        "# Python strings are immutable\n",
        "# and we can not even delete portion form string ,\n",
        "# But we can delete\n"
      ],
      "metadata": {
        "id": "ChwcwskJIanS"
      },
      "execution_count": null,
      "outputs": []
    },
    {
      "cell_type": "code",
      "source": [
        "s = 'hello world'\n",
        "\n",
        "# Delete s\n",
        "del s\n",
        "\n",
        "# After that if , i want access s , so it give me error\n",
        "# print(s)"
      ],
      "metadata": {
        "id": "7k2IqLCDJOK5"
      },
      "execution_count": null,
      "outputs": []
    },
    {
      "cell_type": "markdown",
      "source": [
        "# Operations on Strings\n",
        "\n",
        "- Arithmetic Operations\n",
        "- Relational Operations\n",
        "- Logical Operations\n",
        "- Loops on Strings\n",
        "- Membership Operations"
      ],
      "metadata": {
        "id": "WJbiE5oCF1nd"
      }
    },
    {
      "cell_type": "code",
      "source": [
        "print('delhi' + ' ' + 'mumbai')\n",
        "\n",
        "print('delhi'*5)"
      ],
      "metadata": {
        "colab": {
          "base_uri": "https://localhost:8080/"
        },
        "id": "QzV8ySeNKIIT",
        "outputId": "dddf9e2d-9552-44bd-9bad-56b9176aecf5"
      },
      "execution_count": null,
      "outputs": [
        {
          "output_type": "stream",
          "name": "stdout",
          "text": [
            "delhi mumbai\n",
            "delhidelhidelhidelhidelhi\n"
          ]
        }
      ]
    },
    {
      "cell_type": "code",
      "source": [
        "print('mumbai' > 'pune')\n",
        "# lexiographically\n",
        "# those words come first which is small , and those comes after which is greater\n",
        "\n",
        "#  capital value has samll ASCII Value , small value has high ASCII Value\n",
        "print('Pune' > 'pune')"
      ],
      "metadata": {
        "id": "iT4E9KDBLCJJ"
      },
      "execution_count": null,
      "outputs": []
    },
    {
      "cell_type": "code",
      "source": [
        "# in python , if string have any char , which means true , if empty means false\n",
        "# jb tk usko true milta hai tb tk jaata hai , or wo jaha true mila wo print\n",
        "\n",
        "print('hello' and 'world' and 'aman')\n",
        "\n",
        "# if first true , aage nhi jaega\n",
        "print('hello' or 'world')\n",
        "\n",
        "# first empty , so aag nhi jaega false ko hi print kr dega jiski wjh se false aaya\n",
        "print('' and 'world')\n",
        "\n",
        "# if first false  , aage bhi jaega , jb true milega , tb ruk jaega\n",
        "print('' or 'world')\n",
        "\n",
        "print(not 'hello')"
      ],
      "metadata": {
        "id": "fQ8jcwp_MEmV"
      },
      "execution_count": null,
      "outputs": []
    },
    {
      "cell_type": "code",
      "source": [
        "for i in 'delhi':\n",
        "  print('pune')\n",
        "\n",
        "for i in 'hello':\n",
        "  print(i)"
      ],
      "metadata": {
        "colab": {
          "base_uri": "https://localhost:8080/"
        },
        "id": "hRySgvcpNuyr",
        "outputId": "2000b47a-8618-4053-f953-ab8d4937964f"
      },
      "execution_count": null,
      "outputs": [
        {
          "output_type": "stream",
          "name": "stdout",
          "text": [
            "pune\n",
            "pune\n",
            "pune\n",
            "pune\n",
            "pune\n",
            "h\n",
            "e\n",
            "l\n",
            "l\n",
            "o\n"
          ]
        }
      ]
    },
    {
      "cell_type": "markdown",
      "source": [
        "# Common Functions\n",
        "- len\n",
        "- max\n",
        "- min\n",
        "- sorted"
      ],
      "metadata": {
        "id": "3977OpwuNn41"
      }
    },
    {
      "cell_type": "code",
      "source": [
        "print(len('hello world'))\n",
        "\n",
        "print(max('hello world'))     # print max character\n",
        "\n",
        "\n",
        "print(min('hello world'))     # print min character  space is highly less character\n",
        "\n",
        "print(sorted('hello world', reverse=True))"
      ],
      "metadata": {
        "colab": {
          "base_uri": "https://localhost:8080/"
        },
        "id": "6U4Mv_-nOKXU",
        "outputId": "9bba2468-c179-40ce-fc85-f9e68ff68a3c"
      },
      "execution_count": null,
      "outputs": [
        {
          "output_type": "stream",
          "name": "stdout",
          "text": [
            "11\n",
            "w\n",
            " \n",
            "['w', 'r', 'o', 'o', 'l', 'l', 'l', 'h', 'e', 'd', ' ']\n"
          ]
        }
      ]
    },
    {
      "cell_type": "markdown",
      "source": [
        "# Interview Question\n",
        "\n",
        "if we use any  \n",
        "\n",
        "- Capitalize\n",
        "- Title\n",
        "- Upper / Lower\n",
        "- Swapcase  \n",
        "\n",
        "from above so it will not directly change into original ,\n",
        " actually it create a new memory loaction , and that modified stored in this"
      ],
      "metadata": {
        "id": "FkDAzhJBRftd"
      }
    },
    {
      "cell_type": "code",
      "source": [
        "s = 'hello world'\n",
        "\n",
        "# Capitalize -> capital only first letter\n",
        "print(s.capitalize())\n",
        "print(s)\n",
        "\n",
        "\n",
        "# Title -> every first letter even after space\n",
        "print(s.title())\n",
        "\n",
        "# Upper\n",
        "print(s.upper())\n",
        "\n",
        "# Lower\n",
        "print('Hello Wolrd'.lower())\n",
        "\n",
        "# Swapcase -> convert capital to lower , lower to capital\n",
        "print('HeLlO WorLD'.swapcase()  )\n"
      ],
      "metadata": {
        "colab": {
          "base_uri": "https://localhost:8080/"
        },
        "id": "p56b38GKOwly",
        "outputId": "8bb64c52-60ab-4dbf-c9ff-d4ead598f03f"
      },
      "execution_count": null,
      "outputs": [
        {
          "output_type": "stream",
          "name": "stdout",
          "text": [
            "Hello world\n",
            "hello world\n",
            "Hello World\n",
            "HELLO WORLD\n",
            "hello wolrd\n",
            "hElLo wORld\n"
          ]
        }
      ]
    },
    {
      "cell_type": "markdown",
      "source": [
        "# Interview Question\n",
        "\n",
        "## Find -> jo nhi milta , return -1\n",
        "\n",
        "## Index -> jo nhi milta , give error"
      ],
      "metadata": {
        "id": "b-Kdjnbn4wfc"
      }
    },
    {
      "cell_type": "code",
      "source": [
        "# Count\n",
        "print('my name is nitish'.count('i'))\n",
        "\n",
        "# Find -> jo nhi milta , return -1\n",
        "print('my name is nitish'.find('x'))\n",
        "\n",
        "# Index -> jo nhi milta , return error\n",
        "print('my name is nitish'.index('a'))"
      ],
      "metadata": {
        "id": "ZWpJ0wGsP94t"
      },
      "execution_count": null,
      "outputs": []
    },
    {
      "cell_type": "markdown",
      "source": [
        "# Endswith / startswith"
      ],
      "metadata": {
        "id": "tTk2PYf6P3y7"
      }
    },
    {
      "cell_type": "code",
      "source": [
        "'my name is nitish'.endswith('sho')"
      ],
      "metadata": {
        "id": "TbyYTHMxMpbZ"
      },
      "execution_count": null,
      "outputs": []
    },
    {
      "cell_type": "code",
      "source": [
        "'my name is nitish'.startswith('my')"
      ],
      "metadata": {
        "id": "gpR1WiKEM8Am"
      },
      "execution_count": null,
      "outputs": []
    },
    {
      "cell_type": "markdown",
      "source": [
        "# format"
      ],
      "metadata": {
        "id": "UZAs8czlQv10"
      }
    },
    {
      "cell_type": "code",
      "source": [
        "name = 'nitish'  # 0\n",
        "gender = 'male'  # 1\n",
        "age = 25         # 2\n",
        "\n",
        "'Hi my name is {1} and I am a {0} and my age is {2}'.format(gender,name , age)"
      ],
      "metadata": {
        "id": "7ntg300yQ4WX"
      },
      "execution_count": null,
      "outputs": []
    },
    {
      "cell_type": "markdown",
      "source": [
        "# Interview Question\n",
        "\n",
        "# isalnum\n",
        "check if string present alphabet and numeric combination true , otherwise false\n",
        "\n",
        "# isalpha\n",
        "check if string present only alphabet true , otherwise false\n",
        "\n",
        "\n",
        "# isdigit\n",
        "check if string present only numeric true , otherwise false\n",
        "\n",
        "\n",
        "# isidentifier\n",
        "check if string is valid identifier so true , otherwise false"
      ],
      "metadata": {
        "id": "AfIK_YNTSitj"
      }
    },
    {
      "cell_type": "markdown",
      "source": [
        "## Split/Join\n",
        "\n",
        "\n",
        "from above so it will not directly change into original , actually it create a new memory loaction , and that modified stored in this"
      ],
      "metadata": {
        "id": "CkR9E0ywMyPE"
      }
    },
    {
      "cell_type": "code",
      "source": [
        "s = 'hi my name is nitish'\n",
        "print(s.split())\n",
        "\n",
        "print(s)"
      ],
      "metadata": {
        "id": "82_UJMr7M0VC"
      },
      "execution_count": null,
      "outputs": []
    },
    {
      "cell_type": "code",
      "source": [
        "\" \".join(['hi', 'my', 'name', 'is', 'nitish'])"
      ],
      "metadata": {
        "id": "OmLemRVTO2Qq"
      },
      "execution_count": null,
      "outputs": []
    },
    {
      "cell_type": "markdown",
      "source": [
        "## Replace\n",
        "\n",
        "\n",
        "from above so it will not directly change into original , actually it create a new memory loaction , and that modified stored in this"
      ],
      "metadata": {
        "id": "30p7nlw_M4M1"
      }
    },
    {
      "cell_type": "code",
      "source": [
        "s = 'hi my name is nitish'\n",
        "print(s.replace('nitish','campusx'))\n",
        "\n",
        "# Replace function ,\n",
        "# does not replace in original string\n",
        "print(s)"
      ],
      "metadata": {
        "colab": {
          "base_uri": "https://localhost:8080/"
        },
        "id": "vuobYzSTM5F-",
        "outputId": "22343576-0305-4920-a774-cc0870ae570d"
      },
      "execution_count": null,
      "outputs": [
        {
          "output_type": "stream",
          "name": "stdout",
          "text": [
            "hi my name is campusx\n",
            "hi my name is nitish\n"
          ]
        }
      ]
    },
    {
      "cell_type": "markdown",
      "source": [],
      "metadata": {
        "id": "7FErm8CCTS9n"
      }
    },
    {
      "cell_type": "markdown",
      "source": [
        "## Strip\n",
        "\n",
        "remove trial spaces from left side and right side as well\n",
        "not remove space form middle"
      ],
      "metadata": {
        "id": "YqdGvSgFM5hW"
      }
    },
    {
      "cell_type": "markdown",
      "source": [
        "# New Section"
      ],
      "metadata": {
        "id": "XfRis5CCEasQ"
      }
    },
    {
      "cell_type": "code",
      "source": [
        "'nitish                           '.strip()"
      ],
      "metadata": {
        "colab": {
          "base_uri": "https://localhost:8080/",
          "height": 36
        },
        "id": "AkWgOFpPM6wq",
        "outputId": "0d50c002-3615-44af-9a7a-74f1874d796c"
      },
      "execution_count": null,
      "outputs": [
        {
          "output_type": "execute_result",
          "data": {
            "text/plain": [
              "'nitish'"
            ],
            "application/vnd.google.colaboratory.intrinsic+json": {
              "type": "string"
            }
          },
          "metadata": {},
          "execution_count": 149
        }
      ]
    }
  ]
}